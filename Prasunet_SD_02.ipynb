{
  "nbformat": 4,
  "nbformat_minor": 0,
  "metadata": {
    "colab": {
      "provenance": [],
      "authorship_tag": "ABX9TyMx/oks3DI0/igXavDiuNIB",
      "include_colab_link": true
    },
    "kernelspec": {
      "name": "python3",
      "display_name": "Python 3"
    },
    "language_info": {
      "name": "python"
    }
  },
  "cells": [
    {
      "cell_type": "markdown",
      "metadata": {
        "id": "view-in-github",
        "colab_type": "text"
      },
      "source": [
        "<a href=\"https://colab.research.google.com/github/DhinaVallesanPV/Prasunet_SD_01/blob/main/Prasunet_SD_02.ipynb\" target=\"_parent\"><img src=\"https://colab.research.google.com/assets/colab-badge.svg\" alt=\"Open In Colab\"/></a>"
      ]
    },
    {
      "cell_type": "code",
      "source": [
        "import random\n",
        "\n",
        "def number_guessing_game():\n",
        "    random_number = random.randint(1, 100)\n",
        "    attempts = 0\n",
        "    print(\"Welcome to the Number Guessing Game!\")\n",
        "    print(\"Guess a number between 1 and 100\")\n",
        "\n",
        "    while True:\n",
        "        guess = input(\"Enter your guess: \")\n",
        "        attempts += 1\n",
        "\n",
        "        if not guess.isdigit():\n",
        "            print(\"Please enter a valid number\")\n",
        "            continue\n",
        "\n",
        "        guess = int(guess)\n",
        "\n",
        "        if guess < random_number:\n",
        "            print(\"Too low! Try again.\")\n",
        "        elif guess > random_number:\n",
        "            print(\"Too high! Try again.\")\n",
        "        else:\n",
        "            print(f\"Congratulations! You guessed the number in {attempts} attempts.\")\n",
        "            break\n",
        "\n",
        "    print(\"Do you want to play again? (yes/no)\")\n",
        "    play_again = input().lower()\n",
        "\n",
        "    if play_again == 'yes':\n",
        "        number_guessing_game()\n",
        "    else:\n",
        "        print(\"Thank you for playing!\")\n",
        "\n",
        "# Start the game\n",
        "number_guessing_game()\n"
      ],
      "metadata": {
        "colab": {
          "base_uri": "https://localhost:8080/"
        },
        "id": "BZHWyK4ZzZ4W",
        "outputId": "262b1764-96b7-4266-a59a-1f14901df4b1"
      },
      "execution_count": 3,
      "outputs": [
        {
          "output_type": "stream",
          "name": "stdout",
          "text": [
            "Welcome to the Number Guessing Game!\n",
            "Guess a number between 1 and 100\n",
            "Enter your guess: 75\n",
            "Too high! Try again.\n",
            "Enter your guess: 60\n",
            "Too high! Try again.\n",
            "Enter your guess: 50\n",
            "Too high! Try again.\n",
            "Enter your guess: 20\n",
            "Too high! Try again.\n",
            "Enter your guess: 5\n",
            "Too high! Try again.\n",
            "Enter your guess: 1\n",
            "Too low! Try again.\n",
            "Enter your guess: 4\n",
            "Too high! Try again.\n",
            "Enter your guess: 3\n",
            "Congratulations! You guessed the number in 8 attempts.\n",
            "Do you want to play again? (yes/no)\n",
            "no\n",
            "Thank you for playing!\n"
          ]
        }
      ]
    }
  ]
}